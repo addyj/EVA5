{
  "nbformat": 4,
  "nbformat_minor": 0,
  "metadata": {
    "colab": {
      "name": "Resnet18_EVA5P1S8.ipynb",
      "provenance": [],
      "collapsed_sections": []
    },
    "kernelspec": {
      "name": "python3",
      "display_name": "Python 3"
    },
    "accelerator": "GPU",
    "widgets": {
      "application/vnd.jupyter.widget-state+json": {
        "fcf6f0df214d4f9e9be33abdd995e814": {
          "model_module": "@jupyter-widgets/controls",
          "model_name": "HBoxModel",
          "state": {
            "_view_name": "HBoxView",
            "_dom_classes": [],
            "_model_name": "HBoxModel",
            "_view_module": "@jupyter-widgets/controls",
            "_model_module_version": "1.5.0",
            "_view_count": null,
            "_view_module_version": "1.5.0",
            "box_style": "",
            "layout": "IPY_MODEL_44774df596954b64a3d298150dda3274",
            "_model_module": "@jupyter-widgets/controls",
            "children": [
              "IPY_MODEL_34b6e173757c4ddd8a3c3d611bf3c545",
              "IPY_MODEL_3f9bcda343bd42bba06296b1d455aa4b"
            ]
          }
        },
        "44774df596954b64a3d298150dda3274": {
          "model_module": "@jupyter-widgets/base",
          "model_name": "LayoutModel",
          "state": {
            "_view_name": "LayoutView",
            "grid_template_rows": null,
            "right": null,
            "justify_content": null,
            "_view_module": "@jupyter-widgets/base",
            "overflow": null,
            "_model_module_version": "1.2.0",
            "_view_count": null,
            "flex_flow": null,
            "width": null,
            "min_width": null,
            "border": null,
            "align_items": null,
            "bottom": null,
            "_model_module": "@jupyter-widgets/base",
            "top": null,
            "grid_column": null,
            "overflow_y": null,
            "overflow_x": null,
            "grid_auto_flow": null,
            "grid_area": null,
            "grid_template_columns": null,
            "flex": null,
            "_model_name": "LayoutModel",
            "justify_items": null,
            "grid_row": null,
            "max_height": null,
            "align_content": null,
            "visibility": null,
            "align_self": null,
            "height": null,
            "min_height": null,
            "padding": null,
            "grid_auto_rows": null,
            "grid_gap": null,
            "max_width": null,
            "order": null,
            "_view_module_version": "1.2.0",
            "grid_template_areas": null,
            "object_position": null,
            "object_fit": null,
            "grid_auto_columns": null,
            "margin": null,
            "display": null,
            "left": null
          }
        },
        "34b6e173757c4ddd8a3c3d611bf3c545": {
          "model_module": "@jupyter-widgets/controls",
          "model_name": "FloatProgressModel",
          "state": {
            "_view_name": "ProgressView",
            "style": "IPY_MODEL_2879c6ef241a4a698151d6faa601a31f",
            "_dom_classes": [],
            "description": "",
            "_model_name": "FloatProgressModel",
            "bar_style": "info",
            "max": 1,
            "_view_module": "@jupyter-widgets/controls",
            "_model_module_version": "1.5.0",
            "value": 1,
            "_view_count": null,
            "_view_module_version": "1.5.0",
            "orientation": "horizontal",
            "min": 0,
            "description_tooltip": null,
            "_model_module": "@jupyter-widgets/controls",
            "layout": "IPY_MODEL_f7c114164a0a482581689fd386338287"
          }
        },
        "3f9bcda343bd42bba06296b1d455aa4b": {
          "model_module": "@jupyter-widgets/controls",
          "model_name": "HTMLModel",
          "state": {
            "_view_name": "HTMLView",
            "style": "IPY_MODEL_56dc2ac161ba462f916b0f612075587d",
            "_dom_classes": [],
            "description": "",
            "_model_name": "HTMLModel",
            "placeholder": "​",
            "_view_module": "@jupyter-widgets/controls",
            "_model_module_version": "1.5.0",
            "value": " 170500096/? [00:20&lt;00:00, 52440530.15it/s]",
            "_view_count": null,
            "_view_module_version": "1.5.0",
            "description_tooltip": null,
            "_model_module": "@jupyter-widgets/controls",
            "layout": "IPY_MODEL_d205858159c64e04945cade14f5243ae"
          }
        },
        "2879c6ef241a4a698151d6faa601a31f": {
          "model_module": "@jupyter-widgets/controls",
          "model_name": "ProgressStyleModel",
          "state": {
            "_view_name": "StyleView",
            "_model_name": "ProgressStyleModel",
            "description_width": "initial",
            "_view_module": "@jupyter-widgets/base",
            "_model_module_version": "1.5.0",
            "_view_count": null,
            "_view_module_version": "1.2.0",
            "bar_color": null,
            "_model_module": "@jupyter-widgets/controls"
          }
        },
        "f7c114164a0a482581689fd386338287": {
          "model_module": "@jupyter-widgets/base",
          "model_name": "LayoutModel",
          "state": {
            "_view_name": "LayoutView",
            "grid_template_rows": null,
            "right": null,
            "justify_content": null,
            "_view_module": "@jupyter-widgets/base",
            "overflow": null,
            "_model_module_version": "1.2.0",
            "_view_count": null,
            "flex_flow": null,
            "width": null,
            "min_width": null,
            "border": null,
            "align_items": null,
            "bottom": null,
            "_model_module": "@jupyter-widgets/base",
            "top": null,
            "grid_column": null,
            "overflow_y": null,
            "overflow_x": null,
            "grid_auto_flow": null,
            "grid_area": null,
            "grid_template_columns": null,
            "flex": null,
            "_model_name": "LayoutModel",
            "justify_items": null,
            "grid_row": null,
            "max_height": null,
            "align_content": null,
            "visibility": null,
            "align_self": null,
            "height": null,
            "min_height": null,
            "padding": null,
            "grid_auto_rows": null,
            "grid_gap": null,
            "max_width": null,
            "order": null,
            "_view_module_version": "1.2.0",
            "grid_template_areas": null,
            "object_position": null,
            "object_fit": null,
            "grid_auto_columns": null,
            "margin": null,
            "display": null,
            "left": null
          }
        },
        "56dc2ac161ba462f916b0f612075587d": {
          "model_module": "@jupyter-widgets/controls",
          "model_name": "DescriptionStyleModel",
          "state": {
            "_view_name": "StyleView",
            "_model_name": "DescriptionStyleModel",
            "description_width": "",
            "_view_module": "@jupyter-widgets/base",
            "_model_module_version": "1.5.0",
            "_view_count": null,
            "_view_module_version": "1.2.0",
            "_model_module": "@jupyter-widgets/controls"
          }
        },
        "d205858159c64e04945cade14f5243ae": {
          "model_module": "@jupyter-widgets/base",
          "model_name": "LayoutModel",
          "state": {
            "_view_name": "LayoutView",
            "grid_template_rows": null,
            "right": null,
            "justify_content": null,
            "_view_module": "@jupyter-widgets/base",
            "overflow": null,
            "_model_module_version": "1.2.0",
            "_view_count": null,
            "flex_flow": null,
            "width": null,
            "min_width": null,
            "border": null,
            "align_items": null,
            "bottom": null,
            "_model_module": "@jupyter-widgets/base",
            "top": null,
            "grid_column": null,
            "overflow_y": null,
            "overflow_x": null,
            "grid_auto_flow": null,
            "grid_area": null,
            "grid_template_columns": null,
            "flex": null,
            "_model_name": "LayoutModel",
            "justify_items": null,
            "grid_row": null,
            "max_height": null,
            "align_content": null,
            "visibility": null,
            "align_self": null,
            "height": null,
            "min_height": null,
            "padding": null,
            "grid_auto_rows": null,
            "grid_gap": null,
            "max_width": null,
            "order": null,
            "_view_module_version": "1.2.0",
            "grid_template_areas": null,
            "object_position": null,
            "object_fit": null,
            "grid_auto_columns": null,
            "margin": null,
            "display": null,
            "left": null
          }
        }
      }
    }
  },
  "cells": [
    {
      "cell_type": "code",
      "metadata": {
        "id": "DtGrzjZSt3di",
        "colab_type": "code",
        "colab": {
          "base_uri": "https://localhost:8080/",
          "height": 784
        },
        "outputId": "ec12a3d6-c6a7-4b83-b62b-0940ee8ae849"
      },
      "source": [
        "# Importing and installing from our private package\n",
        "! pip install git+https://github.com/firekind/athena"
      ],
      "execution_count": 2,
      "outputs": [
        {
          "output_type": "stream",
          "text": [
            "Collecting git+https://github.com/firekind/athena\n",
            "  Cloning https://github.com/firekind/athena to /tmp/pip-req-build-7s9snv4c\n",
            "  Running command git clone -q https://github.com/firekind/athena /tmp/pip-req-build-7s9snv4c\n",
            "Requirement already satisfied: torchsummary in /usr/local/lib/python3.6/dist-packages (from athena==0.0.1) (1.5.1)\n",
            "Requirement already satisfied: tqdm in /usr/local/lib/python3.6/dist-packages (from athena==0.0.1) (4.41.1)\n",
            "Requirement already satisfied: matplotlib in /usr/local/lib/python3.6/dist-packages (from athena==0.0.1) (3.2.2)\n",
            "Requirement already satisfied: tensorboard in /usr/local/lib/python3.6/dist-packages (from athena==0.0.1) (2.3.0)\n",
            "Requirement already satisfied: cycler>=0.10 in /usr/local/lib/python3.6/dist-packages (from matplotlib->athena==0.0.1) (0.10.0)\n",
            "Requirement already satisfied: pyparsing!=2.0.4,!=2.1.2,!=2.1.6,>=2.0.1 in /usr/local/lib/python3.6/dist-packages (from matplotlib->athena==0.0.1) (2.4.7)\n",
            "Requirement already satisfied: kiwisolver>=1.0.1 in /usr/local/lib/python3.6/dist-packages (from matplotlib->athena==0.0.1) (1.2.0)\n",
            "Requirement already satisfied: numpy>=1.11 in /usr/local/lib/python3.6/dist-packages (from matplotlib->athena==0.0.1) (1.18.5)\n",
            "Requirement already satisfied: python-dateutil>=2.1 in /usr/local/lib/python3.6/dist-packages (from matplotlib->athena==0.0.1) (2.8.1)\n",
            "Requirement already satisfied: werkzeug>=0.11.15 in /usr/local/lib/python3.6/dist-packages (from tensorboard->athena==0.0.1) (1.0.1)\n",
            "Requirement already satisfied: google-auth-oauthlib<0.5,>=0.4.1 in /usr/local/lib/python3.6/dist-packages (from tensorboard->athena==0.0.1) (0.4.1)\n",
            "Requirement already satisfied: tensorboard-plugin-wit>=1.6.0 in /usr/local/lib/python3.6/dist-packages (from tensorboard->athena==0.0.1) (1.7.0)\n",
            "Requirement already satisfied: absl-py>=0.4 in /usr/local/lib/python3.6/dist-packages (from tensorboard->athena==0.0.1) (0.10.0)\n",
            "Requirement already satisfied: markdown>=2.6.8 in /usr/local/lib/python3.6/dist-packages (from tensorboard->athena==0.0.1) (3.2.2)\n",
            "Requirement already satisfied: grpcio>=1.24.3 in /usr/local/lib/python3.6/dist-packages (from tensorboard->athena==0.0.1) (1.32.0)\n",
            "Requirement already satisfied: six>=1.10.0 in /usr/local/lib/python3.6/dist-packages (from tensorboard->athena==0.0.1) (1.15.0)\n",
            "Requirement already satisfied: requests<3,>=2.21.0 in /usr/local/lib/python3.6/dist-packages (from tensorboard->athena==0.0.1) (2.23.0)\n",
            "Requirement already satisfied: protobuf>=3.6.0 in /usr/local/lib/python3.6/dist-packages (from tensorboard->athena==0.0.1) (3.12.4)\n",
            "Requirement already satisfied: google-auth<2,>=1.6.3 in /usr/local/lib/python3.6/dist-packages (from tensorboard->athena==0.0.1) (1.17.2)\n",
            "Requirement already satisfied: wheel>=0.26; python_version >= \"3\" in /usr/local/lib/python3.6/dist-packages (from tensorboard->athena==0.0.1) (0.35.1)\n",
            "Requirement already satisfied: setuptools>=41.0.0 in /usr/local/lib/python3.6/dist-packages (from tensorboard->athena==0.0.1) (50.3.0)\n",
            "Requirement already satisfied: requests-oauthlib>=0.7.0 in /usr/local/lib/python3.6/dist-packages (from google-auth-oauthlib<0.5,>=0.4.1->tensorboard->athena==0.0.1) (1.3.0)\n",
            "Requirement already satisfied: importlib-metadata; python_version < \"3.8\" in /usr/local/lib/python3.6/dist-packages (from markdown>=2.6.8->tensorboard->athena==0.0.1) (1.7.0)\n",
            "Requirement already satisfied: idna<3,>=2.5 in /usr/local/lib/python3.6/dist-packages (from requests<3,>=2.21.0->tensorboard->athena==0.0.1) (2.10)\n",
            "Requirement already satisfied: urllib3!=1.25.0,!=1.25.1,<1.26,>=1.21.1 in /usr/local/lib/python3.6/dist-packages (from requests<3,>=2.21.0->tensorboard->athena==0.0.1) (1.24.3)\n",
            "Requirement already satisfied: certifi>=2017.4.17 in /usr/local/lib/python3.6/dist-packages (from requests<3,>=2.21.0->tensorboard->athena==0.0.1) (2020.6.20)\n",
            "Requirement already satisfied: chardet<4,>=3.0.2 in /usr/local/lib/python3.6/dist-packages (from requests<3,>=2.21.0->tensorboard->athena==0.0.1) (3.0.4)\n",
            "Requirement already satisfied: rsa<5,>=3.1.4; python_version >= \"3\" in /usr/local/lib/python3.6/dist-packages (from google-auth<2,>=1.6.3->tensorboard->athena==0.0.1) (4.6)\n",
            "Requirement already satisfied: cachetools<5.0,>=2.0.0 in /usr/local/lib/python3.6/dist-packages (from google-auth<2,>=1.6.3->tensorboard->athena==0.0.1) (4.1.1)\n",
            "Requirement already satisfied: pyasn1-modules>=0.2.1 in /usr/local/lib/python3.6/dist-packages (from google-auth<2,>=1.6.3->tensorboard->athena==0.0.1) (0.2.8)\n",
            "Requirement already satisfied: oauthlib>=3.0.0 in /usr/local/lib/python3.6/dist-packages (from requests-oauthlib>=0.7.0->google-auth-oauthlib<0.5,>=0.4.1->tensorboard->athena==0.0.1) (3.1.0)\n",
            "Requirement already satisfied: zipp>=0.5 in /usr/local/lib/python3.6/dist-packages (from importlib-metadata; python_version < \"3.8\"->markdown>=2.6.8->tensorboard->athena==0.0.1) (3.1.0)\n",
            "Requirement already satisfied: pyasn1>=0.1.3 in /usr/local/lib/python3.6/dist-packages (from rsa<5,>=3.1.4; python_version >= \"3\"->google-auth<2,>=1.6.3->tensorboard->athena==0.0.1) (0.4.8)\n",
            "Building wheels for collected packages: athena\n",
            "  Building wheel for athena (setup.py) ... \u001b[?25l\u001b[?25hdone\n",
            "  Created wheel for athena: filename=athena-0.0.1-cp36-none-any.whl size=29405 sha256=210b27e3b7dc3c1e0ff1de3cb4a8bcd4fcaa694ac278d838eb58bbcc6e18caff\n",
            "  Stored in directory: /tmp/pip-ephem-wheel-cache-5bnh3_rd/wheels/36/d3/7b/d9500a9af2498abc5d48d60c7db37c1456ee745049da352e0b\n",
            "Successfully built athena\n",
            "Installing collected packages: athena\n",
            "Successfully installed athena-0.0.1\n"
          ],
          "name": "stdout"
        }
      ]
    },
    {
      "cell_type": "code",
      "metadata": {
        "id": "LEVDRcjNs-tQ",
        "colab_type": "code",
        "colab": {}
      },
      "source": [
        "# Importing libraries\n",
        "import torch\n",
        "import torch.optim as optim\n",
        "import torch.nn.functional as F\n",
        "from torch.optim.lr_scheduler import StepLR\n",
        "\n",
        "from athena import Experiment, ClassificationSolver, datasets\n",
        "from athena.models import ResNet18\n",
        "from athena.utils.functions import plot_experiments, plot_misclassified"
      ],
      "execution_count": 3,
      "outputs": []
    },
    {
      "cell_type": "code",
      "metadata": {
        "id": "8g-Krw2nuCW5",
        "colab_type": "code",
        "colab": {}
      },
      "source": [
        "# Configuring device\n",
        "device = \"cuda\" if torch.cuda.is_available() else \"cpu\"\n",
        "batch_size = 128 if torch.cuda.is_available() else 64\n",
        "epochs = 30"
      ],
      "execution_count": 4,
      "outputs": []
    },
    {
      "cell_type": "code",
      "metadata": {
        "id": "xLoQjGcVuKwA",
        "colab_type": "code",
        "colab": {
          "base_uri": "https://localhost:8080/",
          "height": 101,
          "referenced_widgets": [
            "fcf6f0df214d4f9e9be33abdd995e814",
            "44774df596954b64a3d298150dda3274",
            "34b6e173757c4ddd8a3c3d611bf3c545",
            "3f9bcda343bd42bba06296b1d455aa4b",
            "2879c6ef241a4a698151d6faa601a31f",
            "f7c114164a0a482581689fd386338287",
            "56dc2ac161ba462f916b0f612075587d",
            "d205858159c64e04945cade14f5243ae"
          ]
        },
        "outputId": "d31b046b-c58b-43a6-cab4-267715281ed1"
      },
      "source": [
        "# Calling Data Loader\n",
        "train_loader = datasets.cifar10(batch_size=batch_size, use_default_transforms=True)\n",
        "test_loader = datasets.cifar10(train=False, batch_size=batch_size, use_default_transforms=True)"
      ],
      "execution_count": 5,
      "outputs": [
        {
          "output_type": "stream",
          "text": [
            "Downloading https://www.cs.toronto.edu/~kriz/cifar-10-python.tar.gz to ./data/cifar-10-python.tar.gz\n"
          ],
          "name": "stdout"
        },
        {
          "output_type": "display_data",
          "data": {
            "application/vnd.jupyter.widget-view+json": {
              "model_id": "fcf6f0df214d4f9e9be33abdd995e814",
              "version_minor": 0,
              "version_major": 2
            },
            "text/plain": [
              "HBox(children=(FloatProgress(value=1.0, bar_style='info', max=1.0), HTML(value='')))"
            ]
          },
          "metadata": {
            "tags": []
          }
        },
        {
          "output_type": "stream",
          "text": [
            "Extracting ./data/cifar-10-python.tar.gz to ./data\n",
            "Files already downloaded and verified\n"
          ],
          "name": "stdout"
        }
      ]
    },
    {
      "cell_type": "code",
      "metadata": {
        "id": "qRMTl47PuU7d",
        "colab_type": "code",
        "colab": {
          "base_uri": "https://localhost:8080/",
          "height": 1000
        },
        "outputId": "87c11a99-c38b-4e47-e0f7-94b169328ad8"
      },
      "source": [
        "exps = (\n",
        "    Experiment(\"ResNet-18 with Cross Entropy Loss\")\n",
        "    .model(ResNet18())\n",
        "    .solver(ClassificationSolver)\n",
        "        .optimizer(optim.SGD, lr=0.01, momentum=0.9)\n",
        "        .scheduler(StepLR, step_size=100, gamma=0.1)\n",
        "        .epochs(epochs)\n",
        "        .train_loader(train_loader)\n",
        "        .test_loader(test_loader)\n",
        "        .loss_fn(F.cross_entropy)\n",
        "        .device(device)\n",
        "        .build()\n",
        "    .build()\n",
        ")\n",
        "\n",
        "exps.run()\n",
        "\n"
      ],
      "execution_count": 6,
      "outputs": [
        {
          "output_type": "stream",
          "text": [
            "\u001b[1m\u001b[92m=> Running experiment: ResNet-18 with Cross Entropy Loss\u001b[0m\n",
            "Epoch: 1 / 30\n",
            "391/391 [==============================] - 62s 159ms/step - loss: 1.2997 - accuracy: 52.7400\n",
            "Test set: Average loss: 1.0539, Accuracy: 6418/10000 (64.18%)\n",
            "\n",
            "Epoch: 2 / 30\n",
            "391/391 [==============================] - 62s 158ms/step - loss: 0.7465 - accuracy: 73.8540\n",
            "Test set: Average loss: 0.7911, Accuracy: 7291/10000 (72.91%)\n",
            "\n",
            "Epoch: 3 / 30\n",
            "391/391 [==============================] - 62s 160ms/step - loss: 0.5155 - accuracy: 82.1180\n",
            "Test set: Average loss: 0.6550, Accuracy: 7797/10000 (77.97%)\n",
            "\n",
            "Epoch: 4 / 30\n",
            "391/391 [==============================] - 62s 160ms/step - loss: 0.3659 - accuracy: 87.2580\n",
            "Test set: Average loss: 0.7716, Accuracy: 7648/10000 (76.48%)\n",
            "\n",
            "Epoch: 5 / 30\n",
            "391/391 [==============================] - 63s 160ms/step - loss: 0.2553 - accuracy: 91.0940\n",
            "Test set: Average loss: 0.7907, Accuracy: 7679/10000 (76.79%)\n",
            "\n",
            "Epoch: 6 / 30\n",
            "391/391 [==============================] - 63s 160ms/step - loss: 0.1697 - accuracy: 93.8760\n",
            "Test set: Average loss: 0.9265, Accuracy: 7642/10000 (76.42%)\n",
            "\n",
            "Epoch: 7 / 30\n",
            "391/391 [==============================] - 62s 160ms/step - loss: 0.0983 - accuracy: 96.6600\n",
            "Test set: Average loss: 0.7662, Accuracy: 8051/10000 (80.51%)\n",
            "\n",
            "Epoch: 8 / 30\n",
            "391/391 [==============================] - 62s 160ms/step - loss: 0.0744 - accuracy: 97.4400\n",
            "Test set: Average loss: 0.8551, Accuracy: 7988/10000 (79.88%)\n",
            "\n",
            "Epoch: 9 / 30\n",
            "391/391 [==============================] - 62s 160ms/step - loss: 0.0609 - accuracy: 97.8980\n",
            "Test set: Average loss: 0.9197, Accuracy: 7955/10000 (79.55%)\n",
            "\n",
            "Epoch: 10 / 30\n",
            "391/391 [==============================] - 63s 160ms/step - loss: 0.0414 - accuracy: 98.6140\n",
            "Test set: Average loss: 0.8564, Accuracy: 8138/10000 (81.38%)\n",
            "\n",
            "Epoch: 11 / 30\n",
            "391/391 [==============================] - 63s 160ms/step - loss: 0.0253 - accuracy: 99.1700\n",
            "Test set: Average loss: 0.8770, Accuracy: 8130/10000 (81.30%)\n",
            "\n",
            "Epoch: 12 / 30\n",
            "391/391 [==============================] - 63s 160ms/step - loss: 0.0204 - accuracy: 99.3340\n",
            "Test set: Average loss: 0.8403, Accuracy: 8223/10000 (82.23%)\n",
            "\n",
            "Epoch: 13 / 30\n",
            "391/391 [==============================] - 63s 160ms/step - loss: 0.0142 - accuracy: 99.5640\n",
            "Test set: Average loss: 1.0541, Accuracy: 7989/10000 (79.89%)\n",
            "\n",
            "Epoch: 14 / 30\n",
            "391/391 [==============================] - 62s 160ms/step - loss: 0.0096 - accuracy: 99.7280\n",
            "Test set: Average loss: 0.8388, Accuracy: 8320/10000 (83.20%)\n",
            "\n",
            "Epoch: 15 / 30\n",
            "391/391 [==============================] - 63s 160ms/step - loss: 0.0023 - accuracy: 99.9700\n",
            "Test set: Average loss: 0.7788, Accuracy: 8470/10000 (84.70%)\n",
            "\n",
            "Epoch: 16 / 30\n",
            "391/391 [==============================] - 63s 161ms/step - loss: 5.9422e-04 - accuracy: 100.0000\n",
            "Test set: Average loss: 0.7650, Accuracy: 8498/10000 (84.98%)\n",
            "\n",
            "Epoch: 17 / 30\n",
            "391/391 [==============================] - 63s 161ms/step - loss: 3.3668e-04 - accuracy: 100.0000\n",
            "Test set: Average loss: 0.7726, Accuracy: 8479/10000 (84.79%)\n",
            "\n",
            "Epoch: 18 / 30\n",
            "391/391 [==============================] - 63s 161ms/step - loss: 2.0761e-04 - accuracy: 100.0000\n",
            "Test set: Average loss: 0.7748, Accuracy: 8503/10000 (85.03%)\n",
            "\n",
            "Epoch: 19 / 30\n",
            "391/391 [==============================] - 63s 160ms/step - loss: 1.9066e-04 - accuracy: 100.0000\n",
            "Test set: Average loss: 0.7614, Accuracy: 8487/10000 (84.87%)\n",
            "\n",
            "Epoch: 20 / 30\n",
            "391/391 [==============================] - 63s 161ms/step - loss: 1.6081e-04 - accuracy: 100.0000\n",
            "Test set: Average loss: 0.7704, Accuracy: 8503/10000 (85.03%)\n",
            "\n",
            "Epoch: 21 / 30\n",
            "391/391 [==============================] - 63s 160ms/step - loss: 1.3729e-04 - accuracy: 100.0000\n",
            "Test set: Average loss: 0.7708, Accuracy: 8503/10000 (85.03%)\n",
            "\n",
            "Epoch: 22 / 30\n",
            "391/391 [==============================] - 63s 160ms/step - loss: 1.2094e-04 - accuracy: 100.0000\n",
            "Test set: Average loss: 0.7705, Accuracy: 8491/10000 (84.91%)\n",
            "\n",
            "Epoch: 23 / 30\n",
            "391/391 [==============================] - 63s 160ms/step - loss: 1.2009e-04 - accuracy: 100.0000\n",
            "Test set: Average loss: 0.7670, Accuracy: 8489/10000 (84.89%)\n",
            "\n",
            "Epoch: 24 / 30\n",
            "391/391 [==============================] - 63s 160ms/step - loss: 9.7051e-05 - accuracy: 100.0000\n",
            "Test set: Average loss: 0.7747, Accuracy: 8492/10000 (84.92%)\n",
            "\n",
            "Epoch: 25 / 30\n",
            "391/391 [==============================] - 62s 160ms/step - loss: 1.0618e-04 - accuracy: 100.0000\n",
            "Test set: Average loss: 0.7846, Accuracy: 8510/10000 (85.10%)\n",
            "\n",
            "Epoch: 26 / 30\n",
            "391/391 [==============================] - 63s 160ms/step - loss: 1.0154e-04 - accuracy: 100.0000\n",
            "Test set: Average loss: 0.7719, Accuracy: 8508/10000 (85.08%)\n",
            "\n",
            "Epoch: 27 / 30\n",
            "391/391 [==============================] - 63s 160ms/step - loss: 8.4803e-05 - accuracy: 100.0000\n",
            "Test set: Average loss: 0.7829, Accuracy: 8504/10000 (85.04%)\n",
            "\n",
            "Epoch: 28 / 30\n",
            "391/391 [==============================] - 62s 160ms/step - loss: 8.7525e-05 - accuracy: 100.0000\n",
            "Test set: Average loss: 0.7745, Accuracy: 8510/10000 (85.10%)\n",
            "\n",
            "Epoch: 29 / 30\n",
            "391/391 [==============================] - 63s 160ms/step - loss: 7.2644e-05 - accuracy: 100.0000\n",
            "Test set: Average loss: 0.7849, Accuracy: 8509/10000 (85.09%)\n",
            "\n",
            "Epoch: 30 / 30\n",
            "391/391 [==============================] - 63s 160ms/step - loss: 6.9122e-05 - accuracy: 100.0000\n",
            "Test set: Average loss: 0.7722, Accuracy: 8514/10000 (85.14%)\n",
            "\n"
          ],
          "name": "stdout"
        }
      ]
    },
    {
      "cell_type": "code",
      "metadata": {
        "id": "Bawe8bTVwdnJ",
        "colab_type": "code",
        "colab": {
          "base_uri": "https://localhost:8080/",
          "height": 771
        },
        "outputId": "bb1dee83-c93f-460f-ab38-d38b7d7539a3"
      },
      "source": [
        "plot_experiments([exps])"
      ],
      "execution_count": 7,
      "outputs": [
        {
          "output_type": "display_data",
          "data": {
            "image/png": "[encoded data removed]",
            "text/plain": [
              "<Figure size 1296x936 with 4 Axes>"
            ]
          },
          "metadata": {
            "tags": [],
            "needs_background": "light"
          }
        }
      ]
    },
    {
      "cell_type": "code",
      "metadata": {
        "id": "4XbH6ML12Mlq",
        "colab_type": "code",
        "colab": {}
      },
      "source": [
        ""
      ],
      "execution_count": null,
      "outputs": []
    }
  ]
}