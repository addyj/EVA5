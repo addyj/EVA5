{
  "nbformat": 4,
  "nbformat_minor": 0,
  "metadata": {
    "colab": {
      "name": "MNIST_VA994_twice.ipynb",
      "provenance": [],
      "collapsed_sections": []
    },
    "kernelspec": {
      "name": "python3",
      "display_name": "Python 3"
    },
    "accelerator": "GPU"
  },
  "cells": [
    {
      "cell_type": "markdown",
      "metadata": {
        "id": "BtgW-4SsIkmn",
        "colab_type": "text"
      },
      "source": [
        "## EVA5 Session4 Neural Architechture Basics\n",
        "#### Group Assignment\n",
        "### Training MNIST digit dataset with model parameter and epochs restriction."
      ]
    },
    {
      "cell_type": "code",
      "metadata": {
        "id": "0m2JWFliFfKT",
        "colab_type": "code",
        "colab": {}
      },
      "source": [
        "# Importing supporting modules/libraries\n",
        "from __future__ import print_function\n",
        "import torch\n",
        "import torch.nn as nn\n",
        "import torch.nn.functional as F\n",
        "import torch.optim as optim\n",
        "from torchvision import datasets, transforms"
      ],
      "execution_count": 16,
      "outputs": []
    },
    {
      "cell_type": "code",
      "metadata": {
        "id": "h_Cx9q2QFgM7",
        "colab_type": "code",
        "colab": {}
      },
      "source": [
        "class Net(nn.Module):    # Defining our CNN class\n",
        "    def __init__(self):    # Defining Initilizing method with all the required convolutions\n",
        "        super(Net, self).__init__()    # Calling parent class constructor\n",
        "        self.convblock1 = nn.Sequential(\n",
        "                    # Input: (30*30*1) Output: (28*28*8) RF: 3*3\n",
        "                    nn.Conv2d(1, 8, 3, padding=1),\n",
        "                    nn.ReLU(),\n",
        "                    nn.BatchNorm2d(8),\n",
        "                    # Input: (30*30*8) Output: (28*28*16) RF: 5*5\n",
        "                    nn.Conv2d(8, 16, 3, padding=1),\n",
        "                    nn.ReLU(),\n",
        "                    nn.BatchNorm2d(16),\n",
        "                    nn.Dropout(0.1),\n",
        "                    # Input: (30*30*16) Output: (28*28*16) RF: 7*7\n",
        "                    nn.Conv2d(16, 16, 3, padding=1),\n",
        "                    nn.ReLU(),\n",
        "                    nn.BatchNorm2d(16),\n",
        "                    nn.Dropout(0.1),\n",
        "                    # Input: (28*28*16) Output: (26*26*32) RF: 9*9\n",
        "                    nn.Conv2d(16, 32, 3),\n",
        "                    nn.ReLU(),\n",
        "                    nn.BatchNorm2d(32)\n",
        "        )\n",
        "        self.transition1 = nn.Sequential(\n",
        "                    # Input: (26*26*32) Output: (13*13*32) RF: 18*18\n",
        "                    nn.MaxPool2d(2, 2),\n",
        "                    # Input: (13*13*32) Output: (13*13*8) RF: 18*18\n",
        "                    nn.Conv2d(32, 8, 1),\n",
        "                    nn.ReLU(),\n",
        "                    nn.BatchNorm2d(8)\n",
        "        )\n",
        "        self.convblock2 = nn.Sequential(\n",
        "                    # Input: (13*13*8) Output: (11*11*16) RF: 20*20\n",
        "                    nn.Conv2d(8, 16, 3),\n",
        "                    nn.ReLU(),\n",
        "                    nn.BatchNorm2d(16),\n",
        "                    nn.Dropout(0.1),\n",
        "                    # Input: (11*11*16) Output: (9*9*16) RF: 22*22\n",
        "                    nn.Conv2d(16, 16, 3),\n",
        "                    nn.ReLU(),\n",
        "                    nn.BatchNorm2d(16),\n",
        "                    nn.Dropout(0.1),\n",
        "                    # Input: (9*9*16) Output: (7*7*32) RF: 24*24\n",
        "                    nn.Conv2d(16, 32, 3),\n",
        "                    nn.ReLU(),\n",
        "                    nn.BatchNorm2d(32),\n",
        "                    # Input: (7*7*32) Output: (5*5*10) RF: 26*26\n",
        "                    nn.Conv2d(32, 10, 3)\n",
        "        )\n",
        "                          # Input: (5*5*10) Output: (1*1*10) RF: 26*26\n",
        "        self.gap_output = nn.AdaptiveAvgPool2d((1,1))\n",
        "\n",
        "### Below Model achieves 99.46 validation accuracy in 12 epochs in 17.4k model parameters\n",
        "\n",
        "        # self.convblock1 = nn.Sequential(\n",
        "        #             nn.Conv2d(1, 8, 3, padding=1),\n",
        "        #             nn.ReLU(),\n",
        "        #             nn.BatchNorm2d(8),\n",
        "        #             nn.Conv2d(8, 16, 3, padding=1),\n",
        "        #             nn.ReLU(),\n",
        "        #             nn.BatchNorm2d(16),\n",
        "        #             nn.Dropout(0.1),\n",
        "        #             nn.Conv2d(16, 32, 3),\n",
        "        #             nn.ReLU(),\n",
        "        #             nn.BatchNorm2d(32),\n",
        "        #             nn.Dropout(0.1)\n",
        "        # )\n",
        "        # self.transition1 = nn.Sequential(\n",
        "        #             nn.MaxPool2d(2, 2),\n",
        "        #             nn.Conv2d(32, 8, 1),\n",
        "        #             nn.ReLU(),\n",
        "        #             nn.BatchNorm2d(8)\n",
        "        # )\n",
        "        # self.convblock2 = nn.Sequential(\n",
        "        #             nn.Conv2d(8, 16, 3),\n",
        "        #             nn.ReLU(),\n",
        "        #             nn.BatchNorm2d(16),\n",
        "        #             nn.Dropout(0.1), \n",
        "        #             nn.Conv2d(16, 16, 3),\n",
        "        #             nn.ReLU(),\n",
        "        #             nn.BatchNorm2d(16),\n",
        "        #             nn.Dropout(0.1),\n",
        "        #             nn.Conv2d(16, 32, 3),\n",
        "        #             nn.ReLU(),\n",
        "        #             nn.BatchNorm2d(32),\n",
        "        #             nn.Conv2d(32, 10, 3)\n",
        "        # )\n",
        "      \n",
        "    def forward(self, x):    # Forward Pass of the model\n",
        "        x = self.convblock1(x)\n",
        "        x = self.transition1(x)\n",
        "        x = self.convblock2(x)\n",
        "        x = self.gap_output(x) # Classification Layer\n",
        "        x = x.view(-1, 10)\n",
        "        return F.log_softmax(x)    # Log Softmax for enhanching the output to \n",
        "                                   # particular classification \n",
        "                                   # (not probability but probability like)"
      ],
      "execution_count": 17,
      "outputs": []
    },
    {
      "cell_type": "code",
      "metadata": {
        "colab_type": "code",
        "id": "xdydjYTZFyi3",
        "colab": {
          "base_uri": "https://localhost:8080/",
          "height": 836
        },
        "outputId": "9a592709-94b0-4987-9fd2-1b3708710208"
      },
      "source": [
        "# Installing libraries for getting model informations\n",
        "!pip install torchsummary\n",
        "from torchsummary import summary\n",
        "\n",
        "# Checking for GPU avalibility\n",
        "use_cuda = torch.cuda.is_available()\n",
        "device = torch.device(\"cuda\" if use_cuda else \"cpu\")\n",
        "\n",
        "# Transferring the model run to GPU instance\n",
        "model = Net().to(device)\n",
        "\n",
        "# Getting the model summary\n",
        "summary(model, input_size=(1, 28, 28))"
      ],
      "execution_count": 18,
      "outputs": [
        {
          "output_type": "stream",
          "text": [
            "Requirement already satisfied: torchsummary in /usr/local/lib/python3.6/dist-packages (1.5.1)\n",
            "----------------------------------------------------------------\n",
            "        Layer (type)               Output Shape         Param #\n",
            "================================================================\n",
            "            Conv2d-1            [-1, 8, 28, 28]              80\n",
            "              ReLU-2            [-1, 8, 28, 28]               0\n",
            "       BatchNorm2d-3            [-1, 8, 28, 28]              16\n",
            "            Conv2d-4           [-1, 16, 28, 28]           1,168\n",
            "              ReLU-5           [-1, 16, 28, 28]               0\n",
            "       BatchNorm2d-6           [-1, 16, 28, 28]              32\n",
            "           Dropout-7           [-1, 16, 28, 28]               0\n",
            "            Conv2d-8           [-1, 16, 28, 28]           2,320\n",
            "              ReLU-9           [-1, 16, 28, 28]               0\n",
            "      BatchNorm2d-10           [-1, 16, 28, 28]              32\n",
            "          Dropout-11           [-1, 16, 28, 28]               0\n",
            "           Conv2d-12           [-1, 32, 26, 26]           4,640\n",
            "             ReLU-13           [-1, 32, 26, 26]               0\n",
            "      BatchNorm2d-14           [-1, 32, 26, 26]              64\n",
            "        MaxPool2d-15           [-1, 32, 13, 13]               0\n",
            "           Conv2d-16            [-1, 8, 13, 13]             264\n",
            "             ReLU-17            [-1, 8, 13, 13]               0\n",
            "      BatchNorm2d-18            [-1, 8, 13, 13]              16\n",
            "           Conv2d-19           [-1, 16, 11, 11]           1,168\n",
            "             ReLU-20           [-1, 16, 11, 11]               0\n",
            "      BatchNorm2d-21           [-1, 16, 11, 11]              32\n",
            "          Dropout-22           [-1, 16, 11, 11]               0\n",
            "           Conv2d-23             [-1, 16, 9, 9]           2,320\n",
            "             ReLU-24             [-1, 16, 9, 9]               0\n",
            "      BatchNorm2d-25             [-1, 16, 9, 9]              32\n",
            "          Dropout-26             [-1, 16, 9, 9]               0\n",
            "           Conv2d-27             [-1, 32, 7, 7]           4,640\n",
            "             ReLU-28             [-1, 32, 7, 7]               0\n",
            "      BatchNorm2d-29             [-1, 32, 7, 7]              64\n",
            "           Conv2d-30             [-1, 10, 5, 5]           2,890\n",
            "AdaptiveAvgPool2d-31             [-1, 10, 1, 1]               0\n",
            "================================================================\n",
            "Total params: 19,778\n",
            "Trainable params: 19,778\n",
            "Non-trainable params: 0\n",
            "----------------------------------------------------------------\n",
            "Input size (MB): 0.00\n",
            "Forward/backward pass size (MB): 1.61\n",
            "Params size (MB): 0.08\n",
            "Estimated Total Size (MB): 1.69\n",
            "----------------------------------------------------------------\n"
          ],
          "name": "stdout"
        },
        {
          "output_type": "stream",
          "text": [
            "/usr/local/lib/python3.6/dist-packages/ipykernel_launcher.py:84: UserWarning: Implicit dimension choice for log_softmax has been deprecated. Change the call to include dim=X as an argument.\n"
          ],
          "name": "stderr"
        }
      ]
    },
    {
      "cell_type": "code",
      "metadata": {
        "id": "DqTWLaM5GHgH",
        "colab_type": "code",
        "colab": {}
      },
      "source": [
        "# Setting seed for consistency\n",
        "torch.manual_seed(1)\n",
        "\n",
        "# Setting batch size i.e the number of images we will look at in 1 forward pass\n",
        "batch_size = 512\n",
        "\n",
        "# Assinging number of workers for parallel computation/fail safe working\n",
        "kwargs = {'num_workers': 1, 'pin_memory': True} if use_cuda else {}\n",
        "\n",
        "# Loading MNIST Train/Test Dataset from torch datasets library\n",
        "train_loader = torch.utils.data.DataLoader(\n",
        "    datasets.MNIST('../data', train=True, download=True,\n",
        "                    transform=transforms.Compose([\n",
        "                        transforms.ToTensor(),    \n",
        "                        # Changing the array to Teansor format\n",
        "                        transforms.Normalize((0.1307,), (0.3081,))   \n",
        "                        # Normalizing all channels of all images with fixed train \n",
        "                        # dataset mean and std\n",
        "                    ])),\n",
        "    batch_size=batch_size, shuffle=True, **kwargs)\n",
        "\n",
        "test_loader = torch.utils.data.DataLoader(\n",
        "    datasets.MNIST('../data', train=False, transform=transforms.Compose([\n",
        "                        transforms.ToTensor(),\n",
        "                        transforms.Normalize((0.1307,), (0.3081,))\n",
        "                        # Normalizing all channels of all images of test with\n",
        "                        # fixed train dataset mean and std\n",
        "                    ])),\n",
        "    batch_size=batch_size, shuffle=True, **kwargs)\n"
      ],
      "execution_count": 19,
      "outputs": []
    },
    {
      "cell_type": "code",
      "metadata": {
        "id": "8fDefDhaFlwH",
        "colab_type": "code",
        "colab": {}
      },
      "source": [
        "from tqdm import tqdm\n",
        "\n",
        "# Function defination for train the model\n",
        "def train(model, device, train_loader, optimizer, epoch):\n",
        "    running_loss = 0\n",
        "    model.train()\n",
        "    pbar = tqdm(train_loader)\n",
        "    # Iterating over all images batchwise\n",
        "    for batch_idx, (data, target) in enumerate(pbar):\n",
        "        # Loading train image and label to GPU \n",
        "        data, target = data.to(device), target.to(device)\n",
        "        optimizer.zero_grad()\n",
        "        # Computing model over data\n",
        "        output = model(data)\n",
        "        # Calculating negative log likelihood loss\n",
        "        loss = F.nll_loss(output, target)\n",
        "        # Backward Loss Propogation of batch\n",
        "        loss.backward()\n",
        "        optimizer.step()\n",
        "        pbar.set_description(desc= f'loss={loss.item()} batch_id={batch_idx}')\n",
        "    \n",
        "def test(model, device, test_loader):\n",
        "    model.eval()\n",
        "    test_loss = 0\n",
        "    correct = 0\n",
        "    with torch.no_grad():\n",
        "        for data, target in test_loader:\n",
        "            # Loading test image and label to GPU \n",
        "            data, target = data.to(device), target.to(device)\n",
        "            output = model(data)\n",
        "            # Summing up batch loss over all test dataset\n",
        "            test_loss += F.nll_loss(output, target, reduction='sum').item()  \n",
        "            # Get the index of the max log-probability\n",
        "            pred = output.argmax(dim=1, keepdim=True)  \n",
        "            correct += pred.eq(target.view_as(pred)).sum().item()\n",
        "\n",
        "    test_loss /= len(test_loader.dataset)\n",
        "\n",
        "    print('\\nTest set: Average loss: {:.5f}, Accuracy: {}/{} ({:.3f}%)\\n'.format(\n",
        "        test_loss, correct, len(test_loader.dataset),\n",
        "        100. * correct / len(test_loader.dataset)))"
      ],
      "execution_count": 20,
      "outputs": []
    },
    {
      "cell_type": "code",
      "metadata": {
        "id": "MMWbLWO6FuHb",
        "colab_type": "code",
        "colab": {
          "base_uri": "https://localhost:8080/",
          "height": 1000
        },
        "outputId": "462a1e06-fcf5-476b-c2cf-4d0369d2d768"
      },
      "source": [
        "# Loading model to GPU\n",
        "model = Net().to(device)\n",
        "\n",
        "# Defining Stochastic Gradient Decent optimiser with LR and momentum\n",
        "optimizer = optim.SGD(model.parameters(), lr=0.05, momentum=0.9)\n",
        "\n",
        "# Actual training for mentioned epochs range\n",
        "for epoch in range(1, 13):\n",
        "    print(\"EPOCH: \", epoch)\n",
        "    train(model, device, train_loader, optimizer, epoch)\n",
        "    test(model, device, test_loader)"
      ],
      "execution_count": 21,
      "outputs": [
        {
          "output_type": "stream",
          "text": [
            "\r  0%|          | 0/118 [00:00<?, ?it/s]"
          ],
          "name": "stderr"
        },
        {
          "output_type": "stream",
          "text": [
            "EPOCH:  1\n"
          ],
          "name": "stdout"
        },
        {
          "output_type": "stream",
          "text": [
            "/usr/local/lib/python3.6/dist-packages/ipykernel_launcher.py:84: UserWarning: Implicit dimension choice for log_softmax has been deprecated. Change the call to include dim=X as an argument.\n",
            "loss=0.033397164195775986 batch_id=117: 100%|██████████| 118/118 [00:16<00:00,  7.29it/s]\n",
            "  0%|          | 0/118 [00:00<?, ?it/s]"
          ],
          "name": "stderr"
        },
        {
          "output_type": "stream",
          "text": [
            "\n",
            "Test set: Average loss: 0.05837, Accuracy: 9814/10000 (98.140%)\n",
            "\n",
            "EPOCH:  2\n"
          ],
          "name": "stdout"
        },
        {
          "output_type": "stream",
          "text": [
            "loss=0.016654614359140396 batch_id=117: 100%|██████████| 118/118 [00:16<00:00,  7.27it/s]\n",
            "  0%|          | 0/118 [00:00<?, ?it/s]"
          ],
          "name": "stderr"
        },
        {
          "output_type": "stream",
          "text": [
            "\n",
            "Test set: Average loss: 0.03876, Accuracy: 9873/10000 (98.730%)\n",
            "\n",
            "EPOCH:  3\n"
          ],
          "name": "stdout"
        },
        {
          "output_type": "stream",
          "text": [
            "loss=0.049862828105688095 batch_id=117: 100%|██████████| 118/118 [00:16<00:00,  6.96it/s]\n",
            "  0%|          | 0/118 [00:00<?, ?it/s]"
          ],
          "name": "stderr"
        },
        {
          "output_type": "stream",
          "text": [
            "\n",
            "Test set: Average loss: 0.04037, Accuracy: 9868/10000 (98.680%)\n",
            "\n",
            "EPOCH:  4\n"
          ],
          "name": "stdout"
        },
        {
          "output_type": "stream",
          "text": [
            "loss=0.01443264540284872 batch_id=117: 100%|██████████| 118/118 [00:16<00:00,  7.31it/s]\n",
            "  0%|          | 0/118 [00:00<?, ?it/s]"
          ],
          "name": "stderr"
        },
        {
          "output_type": "stream",
          "text": [
            "\n",
            "Test set: Average loss: 0.02869, Accuracy: 9909/10000 (99.090%)\n",
            "\n",
            "EPOCH:  5\n"
          ],
          "name": "stdout"
        },
        {
          "output_type": "stream",
          "text": [
            "loss=0.031058140099048615 batch_id=117: 100%|██████████| 118/118 [00:16<00:00,  7.34it/s]\n",
            "  0%|          | 0/118 [00:00<?, ?it/s]"
          ],
          "name": "stderr"
        },
        {
          "output_type": "stream",
          "text": [
            "\n",
            "Test set: Average loss: 0.02694, Accuracy: 9905/10000 (99.050%)\n",
            "\n",
            "EPOCH:  6\n"
          ],
          "name": "stdout"
        },
        {
          "output_type": "stream",
          "text": [
            "loss=0.00789621938019991 batch_id=117: 100%|██████████| 118/118 [00:16<00:00,  7.35it/s]\n",
            "  0%|          | 0/118 [00:00<?, ?it/s]"
          ],
          "name": "stderr"
        },
        {
          "output_type": "stream",
          "text": [
            "\n",
            "Test set: Average loss: 0.02448, Accuracy: 9914/10000 (99.140%)\n",
            "\n",
            "EPOCH:  7\n"
          ],
          "name": "stdout"
        },
        {
          "output_type": "stream",
          "text": [
            "loss=0.06326224654912949 batch_id=117: 100%|██████████| 118/118 [00:15<00:00,  7.45it/s]\n",
            "  0%|          | 0/118 [00:00<?, ?it/s]"
          ],
          "name": "stderr"
        },
        {
          "output_type": "stream",
          "text": [
            "\n",
            "Test set: Average loss: 0.02205, Accuracy: 9929/10000 (99.290%)\n",
            "\n",
            "EPOCH:  8\n"
          ],
          "name": "stdout"
        },
        {
          "output_type": "stream",
          "text": [
            "loss=0.007270460948348045 batch_id=117: 100%|██████████| 118/118 [00:16<00:00,  7.22it/s]\n",
            "  0%|          | 0/118 [00:00<?, ?it/s]"
          ],
          "name": "stderr"
        },
        {
          "output_type": "stream",
          "text": [
            "\n",
            "Test set: Average loss: 0.01939, Accuracy: 9940/10000 (99.400%)\n",
            "\n",
            "EPOCH:  9\n"
          ],
          "name": "stdout"
        },
        {
          "output_type": "stream",
          "text": [
            "loss=0.03460037335753441 batch_id=117: 100%|██████████| 118/118 [00:16<00:00,  7.32it/s]\n",
            "  0%|          | 0/118 [00:00<?, ?it/s]"
          ],
          "name": "stderr"
        },
        {
          "output_type": "stream",
          "text": [
            "\n",
            "Test set: Average loss: 0.02055, Accuracy: 9926/10000 (99.260%)\n",
            "\n",
            "EPOCH:  10\n"
          ],
          "name": "stdout"
        },
        {
          "output_type": "stream",
          "text": [
            "loss=0.034471478313207626 batch_id=117: 100%|██████████| 118/118 [00:16<00:00,  7.17it/s]\n",
            "  0%|          | 0/118 [00:00<?, ?it/s]"
          ],
          "name": "stderr"
        },
        {
          "output_type": "stream",
          "text": [
            "\n",
            "Test set: Average loss: 0.02443, Accuracy: 9927/10000 (99.270%)\n",
            "\n",
            "EPOCH:  11\n"
          ],
          "name": "stdout"
        },
        {
          "output_type": "stream",
          "text": [
            "loss=0.007330236490815878 batch_id=117: 100%|██████████| 118/118 [00:15<00:00,  7.40it/s]\n",
            "  0%|          | 0/118 [00:00<?, ?it/s]"
          ],
          "name": "stderr"
        },
        {
          "output_type": "stream",
          "text": [
            "\n",
            "Test set: Average loss: 0.01932, Accuracy: 9933/10000 (99.330%)\n",
            "\n",
            "EPOCH:  12\n"
          ],
          "name": "stdout"
        },
        {
          "output_type": "stream",
          "text": [
            "loss=0.004413722548633814 batch_id=117: 100%|██████████| 118/118 [00:16<00:00,  7.32it/s]\n"
          ],
          "name": "stderr"
        },
        {
          "output_type": "stream",
          "text": [
            "\n",
            "Test set: Average loss: 0.01805, Accuracy: 9941/10000 (99.410%)\n",
            "\n"
          ],
          "name": "stdout"
        }
      ]
    },
    {
      "cell_type": "markdown",
      "metadata": {
        "id": "e9UzKl3ZDfln",
        "colab_type": "text"
      },
      "source": [
        "## Achieved 99.4 mark twice in 12 epochs under 20k (~19.77K) model parameters.\n",
        "#### - 99.40 Validation Accuracy in epoch 8\n",
        "#### - 99.41 Validation Accuracy in epoch 12"
      ]
    },
    {
      "cell_type": "code",
      "metadata": {
        "id": "yHK1BkV7dmy3",
        "colab_type": "code",
        "colab": {}
      },
      "source": [
        ""
      ],
      "execution_count": null,
      "outputs": []
    }
  ]
}