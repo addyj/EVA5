{
  "nbformat": 4,
  "nbformat_minor": 0,
  "metadata": {
    "colab": {
      "name": "Tiny_Imagenet_Resnet18.ipynb",
      "provenance": [],
      "collapsed_sections": []
    },
    "kernelspec": {
      "name": "python3",
      "display_name": "Python 3"
    },
    "accelerator": "GPU",
    "widgets": {
      "application/vnd.jupyter.widget-state+json": {
        "43de41b4361048faaef8646dc1e07dfc": {
          "model_module": "@jupyter-widgets/controls",
          "model_name": "HBoxModel",
          "state": {
            "_view_name": "HBoxView",
            "_dom_classes": [],
            "_model_name": "HBoxModel",
            "_view_module": "@jupyter-widgets/controls",
            "_model_module_version": "1.5.0",
            "_view_count": null,
            "_view_module_version": "1.5.0",
            "box_style": "",
            "layout": "IPY_MODEL_5873e220c5a94d04a259830090b5b575",
            "_model_module": "@jupyter-widgets/controls",
            "children": [
              "IPY_MODEL_4a55e9fc5a5943719ddf3cb28f5e364d",
              "IPY_MODEL_85f0c4e337a74ba2bb9bfb59b069bc01"
            ]
          }
        },
        "5873e220c5a94d04a259830090b5b575": {
          "model_module": "@jupyter-widgets/base",
          "model_name": "LayoutModel",
          "state": {
            "_view_name": "LayoutView",
            "grid_template_rows": null,
            "right": null,
            "justify_content": null,
            "_view_module": "@jupyter-widgets/base",
            "overflow": null,
            "_model_module_version": "1.2.0",
            "_view_count": null,
            "flex_flow": null,
            "width": null,
            "min_width": null,
            "border": null,
            "align_items": null,
            "bottom": null,
            "_model_module": "@jupyter-widgets/base",
            "top": null,
            "grid_column": null,
            "overflow_y": null,
            "overflow_x": null,
            "grid_auto_flow": null,
            "grid_area": null,
            "grid_template_columns": null,
            "flex": null,
            "_model_name": "LayoutModel",
            "justify_items": null,
            "grid_row": null,
            "max_height": null,
            "align_content": null,
            "visibility": null,
            "align_self": null,
            "height": null,
            "min_height": null,
            "padding": null,
            "grid_auto_rows": null,
            "grid_gap": null,
            "max_width": null,
            "order": null,
            "_view_module_version": "1.2.0",
            "grid_template_areas": null,
            "object_position": null,
            "object_fit": null,
            "grid_auto_columns": null,
            "margin": null,
            "display": null,
            "left": null
          }
        },
        "4a55e9fc5a5943719ddf3cb28f5e364d": {
          "model_module": "@jupyter-widgets/controls",
          "model_name": "FloatProgressModel",
          "state": {
            "_view_name": "ProgressView",
            "style": "IPY_MODEL_f6b876a5965a46a5b42885350a02d463",
            "_dom_classes": [],
            "description": "",
            "_model_name": "FloatProgressModel",
            "bar_style": "success",
            "max": 1,
            "_view_module": "@jupyter-widgets/controls",
            "_model_module_version": "1.5.0",
            "value": 1,
            "_view_count": null,
            "_view_module_version": "1.5.0",
            "orientation": "horizontal",
            "min": 0,
            "description_tooltip": null,
            "_model_module": "@jupyter-widgets/controls",
            "layout": "IPY_MODEL_15fc947bba054793939927bdb4c13b79"
          }
        },
        "85f0c4e337a74ba2bb9bfb59b069bc01": {
          "model_module": "@jupyter-widgets/controls",
          "model_name": "HTMLModel",
          "state": {
            "_view_name": "HTMLView",
            "style": "IPY_MODEL_5829a82f12354489996a0a4e5432bfe8",
            "_dom_classes": [],
            "description": "",
            "_model_name": "HTMLModel",
            "placeholder": "​",
            "_view_module": "@jupyter-widgets/controls",
            "_model_module_version": "1.5.0",
            "value": " 248102912/? [00:15&lt;00:00, 15661934.47it/s]",
            "_view_count": null,
            "_view_module_version": "1.5.0",
            "description_tooltip": null,
            "_model_module": "@jupyter-widgets/controls",
            "layout": "IPY_MODEL_73d5ebdc44804231abe5e286ff8892c5"
          }
        },
        "f6b876a5965a46a5b42885350a02d463": {
          "model_module": "@jupyter-widgets/controls",
          "model_name": "ProgressStyleModel",
          "state": {
            "_view_name": "StyleView",
            "_model_name": "ProgressStyleModel",
            "description_width": "initial",
            "_view_module": "@jupyter-widgets/base",
            "_model_module_version": "1.5.0",
            "_view_count": null,
            "_view_module_version": "1.2.0",
            "bar_color": null,
            "_model_module": "@jupyter-widgets/controls"
          }
        },
        "15fc947bba054793939927bdb4c13b79": {
          "model_module": "@jupyter-widgets/base",
          "model_name": "LayoutModel",
          "state": {
            "_view_name": "LayoutView",
            "grid_template_rows": null,
            "right": null,
            "justify_content": null,
            "_view_module": "@jupyter-widgets/base",
            "overflow": null,
            "_model_module_version": "1.2.0",
            "_view_count": null,
            "flex_flow": null,
            "width": "20px",
            "min_width": null,
            "border": null,
            "align_items": null,
            "bottom": null,
            "_model_module": "@jupyter-widgets/base",
            "top": null,
            "grid_column": null,
            "overflow_y": null,
            "overflow_x": null,
            "grid_auto_flow": null,
            "grid_area": null,
            "grid_template_columns": null,
            "flex": null,
            "_model_name": "LayoutModel",
            "justify_items": null,
            "grid_row": null,
            "max_height": null,
            "align_content": null,
            "visibility": null,
            "align_self": null,
            "height": null,
            "min_height": null,
            "padding": null,
            "grid_auto_rows": null,
            "grid_gap": null,
            "max_width": null,
            "order": null,
            "_view_module_version": "1.2.0",
            "grid_template_areas": null,
            "object_position": null,
            "object_fit": null,
            "grid_auto_columns": null,
            "margin": null,
            "display": null,
            "left": null
          }
        },
        "5829a82f12354489996a0a4e5432bfe8": {
          "model_module": "@jupyter-widgets/controls",
          "model_name": "DescriptionStyleModel",
          "state": {
            "_view_name": "StyleView",
            "_model_name": "DescriptionStyleModel",
            "description_width": "",
            "_view_module": "@jupyter-widgets/base",
            "_model_module_version": "1.5.0",
            "_view_count": null,
            "_view_module_version": "1.2.0",
            "_model_module": "@jupyter-widgets/controls"
          }
        },
        "73d5ebdc44804231abe5e286ff8892c5": {
          "model_module": "@jupyter-widgets/base",
          "model_name": "LayoutModel",
          "state": {
            "_view_name": "LayoutView",
            "grid_template_rows": null,
            "right": null,
            "justify_content": null,
            "_view_module": "@jupyter-widgets/base",
            "overflow": null,
            "_model_module_version": "1.2.0",
            "_view_count": null,
            "flex_flow": null,
            "width": null,
            "min_width": null,
            "border": null,
            "align_items": null,
            "bottom": null,
            "_model_module": "@jupyter-widgets/base",
            "top": null,
            "grid_column": null,
            "overflow_y": null,
            "overflow_x": null,
            "grid_auto_flow": null,
            "grid_area": null,
            "grid_template_columns": null,
            "flex": null,
            "_model_name": "LayoutModel",
            "justify_items": null,
            "grid_row": null,
            "max_height": null,
            "align_content": null,
            "visibility": null,
            "align_self": null,
            "height": null,
            "min_height": null,
            "padding": null,
            "grid_auto_rows": null,
            "grid_gap": null,
            "max_width": null,
            "order": null,
            "_view_module_version": "1.2.0",
            "grid_template_areas": null,
            "object_position": null,
            "object_fit": null,
            "grid_auto_columns": null,
            "margin": null,
            "display": null,
            "left": null
          }
        }
      }
    }
  },
  "cells": [
    {
      "cell_type": "code",
      "metadata": {
        "id": "B0aWmMH6JS4o",
        "outputId": "057a8ade-e5c5-4871-fb1a-570c58fefb57",
        "colab": {
          "base_uri": "https://localhost:8080/",
          "height": 1000
        }
      },
      "source": [
        "! pip install git+https://github.com/firekind/athena"
      ],
      "execution_count": 2,
      "outputs": [
        {
          "output_type": "stream",
          "text": [
            "Collecting git+https://github.com/firekind/athena\n",
            "  Cloning https://github.com/firekind/athena to /tmp/pip-req-build-86mewb9p\n",
            "  Running command git clone -q https://github.com/firekind/athena /tmp/pip-req-build-86mewb9p\n",
            "Requirement already satisfied (use --upgrade to upgrade): athena==0.0.2 from git+https://github.com/firekind/athena in /usr/local/lib/python3.6/dist-packages\n",
            "Requirement already satisfied: tqdm~=4.48.2 in /usr/local/lib/python3.6/dist-packages (from athena==0.0.2) (4.48.2)\n",
            "Requirement already satisfied: matplotlib~=3.2.2 in /usr/local/lib/python3.6/dist-packages (from athena==0.0.2) (3.2.2)\n",
            "Requirement already satisfied: tensorboard~=2.2.0 in /usr/local/lib/python3.6/dist-packages (from athena==0.0.2) (2.2.2)\n",
            "Requirement already satisfied: albumentations~=0.4.6 in /usr/local/lib/python3.6/dist-packages (from athena==0.0.2) (0.4.6)\n",
            "Requirement already satisfied: opencv-python~=4.4.0.42 in /usr/local/lib/python3.6/dist-packages (from athena==0.0.2) (4.4.0.44)\n",
            "Requirement already satisfied: pytorch-lightning~=1.0.0 in /usr/local/lib/python3.6/dist-packages (from athena==0.0.2) (1.0.2)\n",
            "Requirement already satisfied: ipympl~=0.5.8 in /usr/local/lib/python3.6/dist-packages (from athena==0.0.2) (0.5.8)\n",
            "Requirement already satisfied: numpy>=1.11 in /usr/local/lib/python3.6/dist-packages (from matplotlib~=3.2.2->athena==0.0.2) (1.18.5)\n",
            "Requirement already satisfied: kiwisolver>=1.0.1 in /usr/local/lib/python3.6/dist-packages (from matplotlib~=3.2.2->athena==0.0.2) (1.2.0)\n",
            "Requirement already satisfied: cycler>=0.10 in /usr/local/lib/python3.6/dist-packages (from matplotlib~=3.2.2->athena==0.0.2) (0.10.0)\n",
            "Requirement already satisfied: python-dateutil>=2.1 in /usr/local/lib/python3.6/dist-packages (from matplotlib~=3.2.2->athena==0.0.2) (2.8.1)\n",
            "Requirement already satisfied: pyparsing!=2.0.4,!=2.1.2,!=2.1.6,>=2.0.1 in /usr/local/lib/python3.6/dist-packages (from matplotlib~=3.2.2->athena==0.0.2) (2.4.7)\n",
            "Requirement already satisfied: tensorboard-plugin-wit>=1.6.0 in /usr/local/lib/python3.6/dist-packages (from tensorboard~=2.2.0->athena==0.0.2) (1.7.0)\n",
            "Requirement already satisfied: markdown>=2.6.8 in /usr/local/lib/python3.6/dist-packages (from tensorboard~=2.2.0->athena==0.0.2) (3.2.2)\n",
            "Requirement already satisfied: werkzeug>=0.11.15 in /usr/local/lib/python3.6/dist-packages (from tensorboard~=2.2.0->athena==0.0.2) (1.0.1)\n",
            "Requirement already satisfied: setuptools>=41.0.0 in /usr/local/lib/python3.6/dist-packages (from tensorboard~=2.2.0->athena==0.0.2) (50.3.0)\n",
            "Requirement already satisfied: grpcio>=1.24.3 in /usr/local/lib/python3.6/dist-packages (from tensorboard~=2.2.0->athena==0.0.2) (1.32.0)\n",
            "Requirement already satisfied: wheel>=0.26; python_version >= \"3\" in /usr/local/lib/python3.6/dist-packages (from tensorboard~=2.2.0->athena==0.0.2) (0.35.1)\n",
            "Requirement already satisfied: absl-py>=0.4 in /usr/local/lib/python3.6/dist-packages (from tensorboard~=2.2.0->athena==0.0.2) (0.10.0)\n",
            "Requirement already satisfied: google-auth-oauthlib<0.5,>=0.4.1 in /usr/local/lib/python3.6/dist-packages (from tensorboard~=2.2.0->athena==0.0.2) (0.4.1)\n",
            "Requirement already satisfied: protobuf>=3.6.0 in /usr/local/lib/python3.6/dist-packages (from tensorboard~=2.2.0->athena==0.0.2) (3.12.4)\n",
            "Requirement already satisfied: requests<3,>=2.21.0 in /usr/local/lib/python3.6/dist-packages (from tensorboard~=2.2.0->athena==0.0.2) (2.23.0)\n",
            "Requirement already satisfied: six>=1.10.0 in /usr/local/lib/python3.6/dist-packages (from tensorboard~=2.2.0->athena==0.0.2) (1.15.0)\n",
            "Requirement already satisfied: google-auth<2,>=1.6.3 in /usr/local/lib/python3.6/dist-packages (from tensorboard~=2.2.0->athena==0.0.2) (1.17.2)\n",
            "Requirement already satisfied: scipy in /usr/local/lib/python3.6/dist-packages (from albumentations~=0.4.6->athena==0.0.2) (1.4.1)\n",
            "Requirement already satisfied: PyYAML in /usr/local/lib/python3.6/dist-packages (from albumentations~=0.4.6->athena==0.0.2) (3.13)\n",
            "Requirement already satisfied: imgaug>=0.4.0 in /usr/local/lib/python3.6/dist-packages (from albumentations~=0.4.6->athena==0.0.2) (0.4.0)\n",
            "Requirement already satisfied: torch>=1.3 in /usr/local/lib/python3.6/dist-packages (from pytorch-lightning~=1.0.0->athena==0.0.2) (1.6.0+cu101)\n",
            "Requirement already satisfied: future>=0.17.1 in /usr/local/lib/python3.6/dist-packages (from pytorch-lightning~=1.0.0->athena==0.0.2) (0.18.2)\n",
            "Requirement already satisfied: fsspec>=0.8.0 in /usr/local/lib/python3.6/dist-packages (from pytorch-lightning~=1.0.0->athena==0.0.2) (0.8.4)\n",
            "Requirement already satisfied: ipykernel>=4.7 in /usr/local/lib/python3.6/dist-packages (from ipympl~=0.5.8->athena==0.0.2) (4.10.1)\n",
            "Requirement already satisfied: ipywidgets>=7.5.0 in /usr/local/lib/python3.6/dist-packages (from ipympl~=0.5.8->athena==0.0.2) (7.5.1)\n",
            "Requirement already satisfied: importlib-metadata; python_version < \"3.8\" in /usr/local/lib/python3.6/dist-packages (from markdown>=2.6.8->tensorboard~=2.2.0->athena==0.0.2) (2.0.0)\n",
            "Requirement already satisfied: requests-oauthlib>=0.7.0 in /usr/local/lib/python3.6/dist-packages (from google-auth-oauthlib<0.5,>=0.4.1->tensorboard~=2.2.0->athena==0.0.2) (1.3.0)\n",
            "Requirement already satisfied: idna<3,>=2.5 in /usr/local/lib/python3.6/dist-packages (from requests<3,>=2.21.0->tensorboard~=2.2.0->athena==0.0.2) (2.10)\n",
            "Requirement already satisfied: chardet<4,>=3.0.2 in /usr/local/lib/python3.6/dist-packages (from requests<3,>=2.21.0->tensorboard~=2.2.0->athena==0.0.2) (3.0.4)\n",
            "Requirement already satisfied: urllib3!=1.25.0,!=1.25.1,<1.26,>=1.21.1 in /usr/local/lib/python3.6/dist-packages (from requests<3,>=2.21.0->tensorboard~=2.2.0->athena==0.0.2) (1.24.3)\n",
            "Requirement already satisfied: certifi>=2017.4.17 in /usr/local/lib/python3.6/dist-packages (from requests<3,>=2.21.0->tensorboard~=2.2.0->athena==0.0.2) (2020.6.20)\n",
            "Requirement already satisfied: cachetools<5.0,>=2.0.0 in /usr/local/lib/python3.6/dist-packages (from google-auth<2,>=1.6.3->tensorboard~=2.2.0->athena==0.0.2) (4.1.1)\n",
            "Requirement already satisfied: rsa<5,>=3.1.4; python_version >= \"3\" in /usr/local/lib/python3.6/dist-packages (from google-auth<2,>=1.6.3->tensorboard~=2.2.0->athena==0.0.2) (4.6)\n",
            "Requirement already satisfied: pyasn1-modules>=0.2.1 in /usr/local/lib/python3.6/dist-packages (from google-auth<2,>=1.6.3->tensorboard~=2.2.0->athena==0.0.2) (0.2.8)\n",
            "Requirement already satisfied: Pillow in /usr/local/lib/python3.6/dist-packages (from imgaug>=0.4.0->albumentations~=0.4.6->athena==0.0.2) (7.0.0)\n",
            "Requirement already satisfied: Shapely in /usr/local/lib/python3.6/dist-packages (from imgaug>=0.4.0->albumentations~=0.4.6->athena==0.0.2) (1.7.1)\n",
            "Requirement already satisfied: scikit-image>=0.14.2 in /usr/local/lib/python3.6/dist-packages (from imgaug>=0.4.0->albumentations~=0.4.6->athena==0.0.2) (0.16.2)\n",
            "Requirement already satisfied: imageio in /usr/local/lib/python3.6/dist-packages (from imgaug>=0.4.0->albumentations~=0.4.6->athena==0.0.2) (2.4.1)\n",
            "Requirement already satisfied: tornado>=4.0 in /usr/local/lib/python3.6/dist-packages (from ipykernel>=4.7->ipympl~=0.5.8->athena==0.0.2) (5.1.1)\n",
            "Requirement already satisfied: ipython>=4.0.0 in /usr/local/lib/python3.6/dist-packages (from ipykernel>=4.7->ipympl~=0.5.8->athena==0.0.2) (5.5.0)\n",
            "Requirement already satisfied: jupyter-client in /usr/local/lib/python3.6/dist-packages (from ipykernel>=4.7->ipympl~=0.5.8->athena==0.0.2) (5.3.5)\n",
            "Requirement already satisfied: traitlets>=4.1.0 in /usr/local/lib/python3.6/dist-packages (from ipykernel>=4.7->ipympl~=0.5.8->athena==0.0.2) (4.3.3)\n",
            "Requirement already satisfied: nbformat>=4.2.0 in /usr/local/lib/python3.6/dist-packages (from ipywidgets>=7.5.0->ipympl~=0.5.8->athena==0.0.2) (5.0.7)\n",
            "Requirement already satisfied: widgetsnbextension~=3.5.0 in /usr/local/lib/python3.6/dist-packages (from ipywidgets>=7.5.0->ipympl~=0.5.8->athena==0.0.2) (3.5.1)\n",
            "Requirement already satisfied: zipp>=0.5 in /usr/local/lib/python3.6/dist-packages (from importlib-metadata; python_version < \"3.8\"->markdown>=2.6.8->tensorboard~=2.2.0->athena==0.0.2) (3.2.0)\n",
            "Requirement already satisfied: oauthlib>=3.0.0 in /usr/local/lib/python3.6/dist-packages (from requests-oauthlib>=0.7.0->google-auth-oauthlib<0.5,>=0.4.1->tensorboard~=2.2.0->athena==0.0.2) (3.1.0)\n",
            "Requirement already satisfied: pyasn1>=0.1.3 in /usr/local/lib/python3.6/dist-packages (from rsa<5,>=3.1.4; python_version >= \"3\"->google-auth<2,>=1.6.3->tensorboard~=2.2.0->athena==0.0.2) (0.4.8)\n",
            "Requirement already satisfied: networkx>=2.0 in /usr/local/lib/python3.6/dist-packages (from scikit-image>=0.14.2->imgaug>=0.4.0->albumentations~=0.4.6->athena==0.0.2) (2.5)\n",
            "Requirement already satisfied: PyWavelets>=0.4.0 in /usr/local/lib/python3.6/dist-packages (from scikit-image>=0.14.2->imgaug>=0.4.0->albumentations~=0.4.6->athena==0.0.2) (1.1.1)\n",
            "Requirement already satisfied: decorator in /usr/local/lib/python3.6/dist-packages (from ipython>=4.0.0->ipykernel>=4.7->ipympl~=0.5.8->athena==0.0.2) (4.4.2)\n",
            "Requirement already satisfied: simplegeneric>0.8 in /usr/local/lib/python3.6/dist-packages (from ipython>=4.0.0->ipykernel>=4.7->ipympl~=0.5.8->athena==0.0.2) (0.8.1)\n",
            "Requirement already satisfied: pexpect; sys_platform != \"win32\" in /usr/local/lib/python3.6/dist-packages (from ipython>=4.0.0->ipykernel>=4.7->ipympl~=0.5.8->athena==0.0.2) (4.8.0)\n",
            "Requirement already satisfied: pickleshare in /usr/local/lib/python3.6/dist-packages (from ipython>=4.0.0->ipykernel>=4.7->ipympl~=0.5.8->athena==0.0.2) (0.7.5)\n",
            "Requirement already satisfied: prompt-toolkit<2.0.0,>=1.0.4 in /usr/local/lib/python3.6/dist-packages (from ipython>=4.0.0->ipykernel>=4.7->ipympl~=0.5.8->athena==0.0.2) (1.0.18)\n",
            "Requirement already satisfied: pygments in /usr/local/lib/python3.6/dist-packages (from ipython>=4.0.0->ipykernel>=4.7->ipympl~=0.5.8->athena==0.0.2) (2.6.1)\n",
            "Requirement already satisfied: jupyter-core>=4.6.0 in /usr/local/lib/python3.6/dist-packages (from jupyter-client->ipykernel>=4.7->ipympl~=0.5.8->athena==0.0.2) (4.6.3)\n",
            "Requirement already satisfied: pyzmq>=13 in /usr/local/lib/python3.6/dist-packages (from jupyter-client->ipykernel>=4.7->ipympl~=0.5.8->athena==0.0.2) (19.0.2)\n",
            "Requirement already satisfied: ipython-genutils in /usr/local/lib/python3.6/dist-packages (from traitlets>=4.1.0->ipykernel>=4.7->ipympl~=0.5.8->athena==0.0.2) (0.2.0)\n",
            "Requirement already satisfied: jsonschema!=2.5.0,>=2.4 in /usr/local/lib/python3.6/dist-packages (from nbformat>=4.2.0->ipywidgets>=7.5.0->ipympl~=0.5.8->athena==0.0.2) (2.6.0)\n",
            "Requirement already satisfied: notebook>=4.4.1 in /usr/local/lib/python3.6/dist-packages (from widgetsnbextension~=3.5.0->ipywidgets>=7.5.0->ipympl~=0.5.8->athena==0.0.2) (5.3.1)\n",
            "Requirement already satisfied: ptyprocess>=0.5 in /usr/local/lib/python3.6/dist-packages (from pexpect; sys_platform != \"win32\"->ipython>=4.0.0->ipykernel>=4.7->ipympl~=0.5.8->athena==0.0.2) (0.6.0)\n",
            "Requirement already satisfied: wcwidth in /usr/local/lib/python3.6/dist-packages (from prompt-toolkit<2.0.0,>=1.0.4->ipython>=4.0.0->ipykernel>=4.7->ipympl~=0.5.8->athena==0.0.2) (0.2.5)\n",
            "Requirement already satisfied: nbconvert in /usr/local/lib/python3.6/dist-packages (from notebook>=4.4.1->widgetsnbextension~=3.5.0->ipywidgets>=7.5.0->ipympl~=0.5.8->athena==0.0.2) (5.6.1)\n",
            "Requirement already satisfied: jinja2 in /usr/local/lib/python3.6/dist-packages (from notebook>=4.4.1->widgetsnbextension~=3.5.0->ipywidgets>=7.5.0->ipympl~=0.5.8->athena==0.0.2) (2.11.2)\n",
            "Requirement already satisfied: Send2Trash in /usr/local/lib/python3.6/dist-packages (from notebook>=4.4.1->widgetsnbextension~=3.5.0->ipywidgets>=7.5.0->ipympl~=0.5.8->athena==0.0.2) (1.5.0)\n",
            "Requirement already satisfied: terminado>=0.8.1 in /usr/local/lib/python3.6/dist-packages (from notebook>=4.4.1->widgetsnbextension~=3.5.0->ipywidgets>=7.5.0->ipympl~=0.5.8->athena==0.0.2) (0.9.1)\n",
            "Requirement already satisfied: pandocfilters>=1.4.1 in /usr/local/lib/python3.6/dist-packages (from nbconvert->notebook>=4.4.1->widgetsnbextension~=3.5.0->ipywidgets>=7.5.0->ipympl~=0.5.8->athena==0.0.2) (1.4.2)\n",
            "Requirement already satisfied: bleach in /usr/local/lib/python3.6/dist-packages (from nbconvert->notebook>=4.4.1->widgetsnbextension~=3.5.0->ipywidgets>=7.5.0->ipympl~=0.5.8->athena==0.0.2) (3.2.1)\n",
            "Requirement already satisfied: testpath in /usr/local/lib/python3.6/dist-packages (from nbconvert->notebook>=4.4.1->widgetsnbextension~=3.5.0->ipywidgets>=7.5.0->ipympl~=0.5.8->athena==0.0.2) (0.4.4)\n",
            "Requirement already satisfied: defusedxml in /usr/local/lib/python3.6/dist-packages (from nbconvert->notebook>=4.4.1->widgetsnbextension~=3.5.0->ipywidgets>=7.5.0->ipympl~=0.5.8->athena==0.0.2) (0.6.0)\n",
            "Requirement already satisfied: entrypoints>=0.2.2 in /usr/local/lib/python3.6/dist-packages (from nbconvert->notebook>=4.4.1->widgetsnbextension~=3.5.0->ipywidgets>=7.5.0->ipympl~=0.5.8->athena==0.0.2) (0.3)\n",
            "Requirement already satisfied: mistune<2,>=0.8.1 in /usr/local/lib/python3.6/dist-packages (from nbconvert->notebook>=4.4.1->widgetsnbextension~=3.5.0->ipywidgets>=7.5.0->ipympl~=0.5.8->athena==0.0.2) (0.8.4)\n",
            "Requirement already satisfied: MarkupSafe>=0.23 in /usr/local/lib/python3.6/dist-packages (from jinja2->notebook>=4.4.1->widgetsnbextension~=3.5.0->ipywidgets>=7.5.0->ipympl~=0.5.8->athena==0.0.2) (1.1.1)\n",
            "Requirement already satisfied: webencodings in /usr/local/lib/python3.6/dist-packages (from bleach->nbconvert->notebook>=4.4.1->widgetsnbextension~=3.5.0->ipywidgets>=7.5.0->ipympl~=0.5.8->athena==0.0.2) (0.5.1)\n",
            "Requirement already satisfied: packaging in /usr/local/lib/python3.6/dist-packages (from bleach->nbconvert->notebook>=4.4.1->widgetsnbextension~=3.5.0->ipywidgets>=7.5.0->ipympl~=0.5.8->athena==0.0.2) (20.4)\n",
            "Building wheels for collected packages: athena\n",
            "  Building wheel for athena (setup.py) ... \u001b[?25l\u001b[?25hdone\n",
            "  Created wheel for athena: filename=athena-0.0.2-cp36-none-any.whl size=48787 sha256=47f50b5b6beacb0fc20fe15876dd44dbffa5c9b7f7ab03da3c72681d61f0353d\n",
            "  Stored in directory: /tmp/pip-ephem-wheel-cache-4cng8e70/wheels/36/d3/7b/d9500a9af2498abc5d48d60c7db37c1456ee745049da352e0b\n",
            "Successfully built athena\n"
          ],
          "name": "stdout"
        }
      ]
    },
    {
      "cell_type": "code",
      "metadata": {
        "id": "c8EMskx5Jnix"
      },
      "source": [
        "from torch import optim\n",
        "import torch.nn.functional as F\n",
        "\n",
        "from athena import ClassificationSolver, Experiment\n",
        "from athena.datasets import tinyimagenet, train_val_split\n",
        "from athena.models import ResNet18"
      ],
      "execution_count": 3,
      "outputs": []
    },
    {
      "cell_type": "code",
      "metadata": {
        "id": "X81Og_LrJTNB",
        "outputId": "26dce8de-7b50-485e-bd11-f6218c3a7089",
        "colab": {
          "base_uri": "https://localhost:8080/",
          "height": 101,
          "referenced_widgets": [
            "43de41b4361048faaef8646dc1e07dfc",
            "5873e220c5a94d04a259830090b5b575",
            "4a55e9fc5a5943719ddf3cb28f5e364d",
            "85f0c4e337a74ba2bb9bfb59b069bc01",
            "f6b876a5965a46a5b42885350a02d463",
            "15fc947bba054793939927bdb4c13b79",
            "5829a82f12354489996a0a4e5432bfe8",
            "73d5ebdc44804231abe5e286ff8892c5"
          ]
        }
      },
      "source": [
        "dataset = tinyimagenet(\"./data\", download=True, use_default_transforms=True)\n",
        "train_loader, val_loader = train_val_split(128, dataset, 0.3)"
      ],
      "execution_count": 4,
      "outputs": [
        {
          "output_type": "stream",
          "text": [
            "Downloading http://cs231n.stanford.edu/tiny-imagenet-200.zip to ./data/tiny-imagenet-200.zip\n"
          ],
          "name": "stdout"
        },
        {
          "output_type": "display_data",
          "data": {
            "application/vnd.jupyter.widget-view+json": {
              "model_id": "43de41b4361048faaef8646dc1e07dfc",
              "version_minor": 0,
              "version_major": 2
            },
            "text/plain": [
              "HBox(children=(FloatProgress(value=1.0, bar_style='info', layout=Layout(width='20px'), max=1.0), HTML(value=''…"
            ]
          },
          "metadata": {
            "tags": []
          }
        },
        {
          "output_type": "stream",
          "text": [
            "Extracting ./data/tiny-imagenet-200.zip to ./data\n",
            "\n"
          ],
          "name": "stdout"
        }
      ]
    },
    {
      "cell_type": "code",
      "metadata": {
        "id": "AV1ml2_5LYyd"
      },
      "source": [
        "exp = (\n",
        "    Experiment.builder()\n",
        "    .props()\n",
        "        .name(\"ResNet-18_TinyImageNet\")\n",
        "        .log_directory(\"./logs\")\n",
        "    .data()\n",
        "        .train_loader(train_loader)\n",
        "        .val_loader(val_loader)\n",
        "    .solver(ClassificationSolver)\n",
        "        .epochs(50)\n",
        "        .model(ResNet18(num_classes=200))\n",
        "        .optimizer(optim.SGD, lr=1e-2, momentum=0.9)\n",
        "    .build()\n",
        ")\n"
      ],
      "execution_count": 10,
      "outputs": []
    },
    {
      "cell_type": "code",
      "metadata": {
        "id": "UIuhQj6-MSFI",
        "outputId": "ea67a7a7-5458-4d9d-d685-8e7f33079e45",
        "colab": {
          "base_uri": "https://localhost:8080/",
          "height": 444
        }
      },
      "source": [
        "exp.lr_range_test(F.cross_entropy, validate=True, start_lr=1e-4, end_lr=0.1, num_iter=100, step_mode=\"linear\")"
      ],
      "execution_count": 6,
      "outputs": [
        {
          "output_type": "stream",
          "text": [
            "Running LR Finder:\n",
            "100/100 [==============================] - 5379s 54s/step\n"
          ],
          "name": "stdout"
        },
        {
          "output_type": "execute_result",
          "data": {
            "text/plain": [
              "(0.055600000000000004, 0.0001)"
            ]
          },
          "metadata": {
            "tags": []
          },
          "execution_count": 6
        },
        {
          "output_type": "display_data",
          "data": {
            "image/png": "[encoded data removed]",
            "text/plain": [
              "<Figure size 576x432 with 1 Axes>"
            ]
          },
          "metadata": {
            "tags": [],
            "needs_background": "light"
          }
        }
      ]
    },
    {
      "cell_type": "code",
      "metadata": {
        "id": "lfDGniveNvdl",
        "outputId": "e006c84e-3b33-451f-9247-524a4fb2613f",
        "colab": {
          "base_uri": "https://localhost:8080/",
          "height": 1000
        }
      },
      "source": [
        "exp.fit_one_cycle(max_lr=5.56e-2, max_at_epoch=10, anneal_strategy=\"linear\")"
      ],
      "execution_count": 11,
      "outputs": [
        {
          "output_type": "stream",
          "text": [
            "\u001b[1m\u001b[92m=> Running experiment: ResNet-18_TinyImageNet\u001b[0m\n",
            "Epoch: 1 / 50\n",
            "547/547 [==============================] - 459s 840ms/step - loss: 4.1600 - train accuracy: 0.0664\n",
            "Validation set: validation loss: 4.3211, validation accuracy: 0.0922\n",
            "\n",
            "Epoch: 2 / 50\n",
            "547/547 [==============================] - 452s 826ms/step - loss: 3.6420 - train accuracy: 0.1484\n",
            "Validation set: validation loss: 3.8973, validation accuracy: 0.1518\n",
            "\n",
            "Epoch: 3 / 50\n",
            "547/547 [==============================] - 451s 825ms/step - loss: 3.3550 - train accuracy: 0.2107\n",
            "Validation set: validation loss: 3.6878, validation accuracy: 0.1907\n",
            "\n",
            "Epoch: 4 / 50\n",
            "547/547 [==============================] - 452s 826ms/step - loss: 2.9900 - train accuracy: 0.2667\n",
            "Validation set: validation loss: 3.3343, validation accuracy: 0.2488\n",
            "\n",
            "Epoch: 5 / 50\n",
            "547/547 [==============================] - 452s 826ms/step - loss: 2.8210 - train accuracy: 0.3162\n",
            "Validation set: validation loss: 3.2437, validation accuracy: 0.2639\n",
            "\n",
            "Epoch: 6 / 50\n",
            "547/547 [==============================] - 453s 828ms/step - loss: 2.6050 - train accuracy: 0.3590\n",
            "Validation set: validation loss: 2.9373, validation accuracy: 0.3194\n",
            "\n",
            "Epoch: 7 / 50\n",
            "547/547 [==============================] - 453s 827ms/step - loss: 2.5170 - train accuracy: 0.3950\n",
            "Validation set: validation loss: 2.7442, validation accuracy: 0.3525\n",
            "\n",
            "Epoch: 8 / 50\n",
            "547/547 [==============================] - 456s 834ms/step - loss: 2.3370 - train accuracy: 0.4269\n",
            "Validation set: validation loss: 2.7232, validation accuracy: 0.3656\n",
            "\n",
            "Epoch: 9 / 50\n",
            "547/547 [==============================] - 456s 833ms/step - loss: 2.1760 - train accuracy: 0.4586\n",
            "Validation set: validation loss: 2.6543, validation accuracy: 0.3837\n",
            "\n",
            "Epoch: 10 / 50\n",
            "547/547 [==============================] - 455s 832ms/step - loss: 2.0960 - train accuracy: 0.4860\n",
            "Validation set: validation loss: 2.4541, validation accuracy: 0.4124\n",
            "\n",
            "Epoch: 11 / 50\n",
            "547/547 [==============================] - 451s 825ms/step - loss: 1.8870 - train accuracy: 0.5135\n",
            "Validation set: validation loss: 2.4082, validation accuracy: 0.4313\n",
            "\n",
            "Epoch: 12 / 50\n",
            "547/547 [==============================] - 452s 826ms/step - loss: 1.8330 - train accuracy: 0.5403\n",
            "Validation set: validation loss: 2.3834, validation accuracy: 0.4317\n",
            "\n",
            "Epoch: 13 / 50\n",
            "547/547 [==============================] - 451s 825ms/step - loss: 1.7260 - train accuracy: 0.5651\n",
            "Validation set: validation loss: 2.3651, validation accuracy: 0.4462\n",
            "\n",
            "Epoch: 14 / 50\n",
            "547/547 [==============================] - 452s 826ms/step - loss: 1.6740 - train accuracy: 0.5901\n",
            "Validation set: validation loss: 2.3108, validation accuracy: 0.4591\n",
            "\n",
            "Epoch: 15 / 50\n",
            "547/547 [==============================] - 453s 829ms/step - loss: 1.5570 - train accuracy: 0.6157\n",
            "Validation set: validation loss: 2.2437, validation accuracy: 0.4699\n",
            "\n",
            "Epoch: 16 / 50\n",
            "547/547 [==============================] - 453s 829ms/step - loss: 1.3770 - train accuracy: 0.6355\n",
            "Validation set: validation loss: 2.2415, validation accuracy: 0.4822\n",
            "\n",
            "Epoch: 17 / 50\n",
            "547/547 [==============================] - 459s 838ms/step - loss: 1.2930 - train accuracy: 0.6617\n",
            "Validation set: validation loss: 2.2866, validation accuracy: 0.4733\n",
            "\n",
            "Epoch: 18 / 50\n",
            "547/547 [==============================] - 458s 838ms/step - loss: 1.2620 - train accuracy: 0.6850\n",
            "Validation set: validation loss: 2.2605, validation accuracy: 0.4865\n",
            "\n",
            "Epoch: 19 / 50\n",
            "547/547 [==============================] - 457s 836ms/step - loss: 1.2240 - train accuracy: 0.7074\n",
            "Validation set: validation loss: 2.3346, validation accuracy: 0.4799\n",
            "\n",
            "Epoch: 20 / 50\n",
            "547/547 [==============================] - 457s 835ms/step - loss: 1.0280 - train accuracy: 0.7284\n",
            "Validation set: validation loss: 2.2909, validation accuracy: 0.4945\n",
            "\n",
            "Epoch: 21 / 50\n",
            "547/547 [==============================] - 457s 835ms/step - loss: 0.9900 - train accuracy: 0.7538\n",
            "Validation set: validation loss: 2.4024, validation accuracy: 0.4834\n",
            "\n",
            "Epoch: 22 / 50\n",
            "547/547 [==============================] - 457s 835ms/step - loss: 0.8990 - train accuracy: 0.7748\n",
            "Validation set: validation loss: 2.3636, validation accuracy: 0.5013\n",
            "\n",
            "Epoch: 23 / 50\n",
            "547/547 [==============================] - 458s 838ms/step - loss: 0.7800 - train accuracy: 0.7995\n",
            "Validation set: validation loss: 2.4420, validation accuracy: 0.4844\n",
            "\n",
            "Epoch: 24 / 50\n",
            "547/547 [==============================] - 457s 836ms/step - loss: 0.7160 - train accuracy: 0.8167\n",
            "Validation set: validation loss: 2.5080, validation accuracy: 0.4909\n",
            "\n",
            "Epoch: 25 / 50\n",
            "547/547 [==============================] - 457s 836ms/step - loss: 0.6160 - train accuracy: 0.8403\n",
            "Validation set: validation loss: 2.5136, validation accuracy: 0.4977\n",
            "\n",
            "Epoch: 26 / 50\n",
            "547/547 [==============================] - 457s 836ms/step - loss: 0.5420 - train accuracy: 0.8605\n",
            "Validation set: validation loss: 2.5808, validation accuracy: 0.4944\n",
            "\n",
            "Epoch: 27 / 50\n",
            "547/547 [==============================] - 457s 836ms/step - loss: 0.4600 - train accuracy: 0.8774\n",
            "Validation set: validation loss: 2.5858, validation accuracy: 0.4996\n",
            "\n",
            "Epoch: 28 / 50\n",
            "547/547 [==============================] - 457s 836ms/step - loss: 0.3990 - train accuracy: 0.8948\n",
            "Validation set: validation loss: 2.6839, validation accuracy: 0.5005\n",
            "\n",
            "Epoch: 29 / 50\n",
            "547/547 [==============================] - 457s 836ms/step - loss: 0.3660 - train accuracy: 0.9107\n",
            "Validation set: validation loss: 2.6296, validation accuracy: 0.5062\n",
            "\n",
            "Epoch: 30 / 50\n",
            "547/547 [==============================] - 458s 837ms/step - loss: 0.3020 - train accuracy: 0.9247\n",
            "Validation set: validation loss: 2.7072, validation accuracy: 0.5083\n",
            "\n",
            "Epoch: 31 / 50\n",
            "547/547 [==============================] - 457s 836ms/step - loss: 0.2690 - train accuracy: 0.9340\n",
            "Validation set: validation loss: 2.6969, validation accuracy: 0.5099\n",
            "\n",
            "Epoch: 32 / 50\n",
            "547/547 [==============================] - 457s 836ms/step - loss: 0.2210 - train accuracy: 0.9446\n",
            "Validation set: validation loss: 2.7539, validation accuracy: 0.5119\n",
            "\n",
            "Epoch: 33 / 50\n",
            "547/547 [==============================] - 457s 836ms/step - loss: 0.1740 - train accuracy: 0.9543\n",
            "Validation set: validation loss: 2.7628, validation accuracy: 0.5172\n",
            "\n",
            "Epoch: 34 / 50\n",
            "547/547 [==============================] - 458s 836ms/step - loss: 0.1390 - train accuracy: 0.9627\n",
            "Validation set: validation loss: 2.7559, validation accuracy: 0.5171\n",
            "\n",
            "Epoch: 35 / 50\n",
            "547/547 [==============================] - 457s 835ms/step - loss: 0.1370 - train accuracy: 0.9691\n",
            "Validation set: validation loss: 2.7946, validation accuracy: 0.5237\n",
            "\n",
            "Epoch: 36 / 50\n",
            "547/547 [==============================] - 457s 836ms/step - loss: 0.1310 - train accuracy: 0.9744\n",
            "Validation set: validation loss: 2.8597, validation accuracy: 0.5188\n",
            "\n",
            "Epoch: 37 / 50\n",
            "547/547 [==============================] - 458s 837ms/step - loss: 0.0960 - train accuracy: 0.9791\n",
            "Validation set: validation loss: 2.7502, validation accuracy: 0.5286\n",
            "\n",
            "Epoch: 38 / 50\n",
            "547/547 [==============================] - 459s 839ms/step - loss: 0.0640 - train accuracy: 0.9825\n",
            "Validation set: validation loss: 2.8074, validation accuracy: 0.5313\n",
            "\n",
            "Epoch: 39 / 50\n",
            "547/547 [==============================] - 461s 842ms/step - loss: 0.0660 - train accuracy: 0.9850\n",
            "Validation set: validation loss: 2.8405, validation accuracy: 0.5294\n",
            "\n",
            "Epoch: 40 / 50\n",
            "547/547 [==============================] - 459s 839ms/step - loss: 0.0590 - train accuracy: 0.9873\n",
            "Validation set: validation loss: 2.8102, validation accuracy: 0.5339\n",
            "\n",
            "Epoch: 41 / 50\n",
            "547/547 [==============================] - 458s 836ms/step - loss: 0.0450 - train accuracy: 0.9907\n",
            "Validation set: validation loss: 2.8142, validation accuracy: 0.5365\n",
            "\n",
            "Epoch: 42 / 50\n",
            "547/547 [==============================] - 457s 836ms/step - loss: 0.0400 - train accuracy: 0.9917\n",
            "Validation set: validation loss: 2.8384, validation accuracy: 0.5377\n",
            "\n",
            "Epoch: 43 / 50\n",
            "547/547 [==============================] - 457s 836ms/step - loss: 0.0360 - train accuracy: 0.9924\n",
            "Validation set: validation loss: 2.8242, validation accuracy: 0.5360\n",
            "\n",
            "Epoch: 44 / 50\n",
            "547/547 [==============================] - 457s 835ms/step - loss: 0.0320 - train accuracy: 0.9936\n",
            "Validation set: validation loss: 2.8250, validation accuracy: 0.5409\n",
            "\n",
            "Epoch: 45 / 50\n",
            "547/547 [==============================] - 458s 836ms/step - loss: 0.0340 - train accuracy: 0.9948\n",
            "Validation set: validation loss: 2.8181, validation accuracy: 0.5397\n",
            "\n",
            "Epoch: 46 / 50\n",
            "547/547 [==============================] - 457s 836ms/step - loss: 0.0290 - train accuracy: 0.9951\n",
            "Validation set: validation loss: 2.8075, validation accuracy: 0.5452\n",
            "\n",
            "Epoch: 47 / 50\n",
            "547/547 [==============================] - 457s 836ms/step - loss: 0.0190 - train accuracy: 0.9961\n",
            "Validation set: validation loss: 2.8022, validation accuracy: 0.5456\n",
            "\n",
            "Epoch: 48 / 50\n",
            "547/547 [==============================] - 457s 836ms/step - loss: 0.0190 - train accuracy: 0.9966\n",
            "Validation set: validation loss: 2.8059, validation accuracy: 0.5462\n",
            "\n",
            "Epoch: 49 / 50\n",
            "547/547 [==============================] - 458s 837ms/step - loss: 0.0190 - train accuracy: 0.9969\n",
            "Validation set: validation loss: 2.8178, validation accuracy: 0.5451\n",
            "\n",
            "Epoch: 50 / 50\n",
            "547/547 [==============================] - 458s 836ms/step - loss: 0.0150 - train accuracy: 0.9971\n",
            "Validation set: validation loss: 2.8039, validation accuracy: 0.5459\n",
            "\n"
          ],
          "name": "stdout"
        }
      ]
    },
    {
      "cell_type": "code",
      "metadata": {
        "id": "WRisRqxTckLx"
      },
      "source": [
        ""
      ],
      "execution_count": null,
      "outputs": []
    }
  ]
}